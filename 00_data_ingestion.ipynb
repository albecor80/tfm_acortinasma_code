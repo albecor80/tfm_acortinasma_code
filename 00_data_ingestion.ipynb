{
 "cells": [
  {
   "cell_type": "code",
   "execution_count": null,
   "id": "906daa8c-a0a0-4aa4-a13e-2b377b814555",
   "metadata": {},
   "outputs": [
    {
     "name": "stdout",
     "output_type": "stream",
     "text": [
      "\n",
      "First 5 rows of silver_ventas.parquet:\n",
      "┌─────────────────┬──────────┬─────────────────────┬──────────────────────┬───────────┬──────────────┬─────────────────┐\n",
      "│ establecimiento │ material │       calday        │       promo_id       │ volume_ap │ cantidad_umb │      tipo       │\n",
      "│     varchar     │ varchar  │      timestamp      │       varchar        │  double   │    double    │     varchar     │\n",
      "├─────────────────┼──────────┼─────────────────────┼──────────────────────┼───────────┼──────────────┼─────────────────┤\n",
      "│ 8100240876      │ TB8      │ 2024-11-26 00:00:00 │ NULL                 │       8.0 │          1.0 │ Bar Cervecería  │\n",
      "│ 8100032055      │ PI13     │ 2024-11-26 00:00:00 │ NULL                 │      7.92 │          1.0 │ Restaurante     │\n",
      "│ 8100258434      │ FL13SPN  │ 2024-11-26 00:00:00 │ NULL                 │      23.1 │          2.0 │ Bar Cervecería  │\n",
      "│ 8100036860      │ VO13     │ 2024-11-26 00:00:00 │ 00000000000080619348 │       0.0 │          0.0 │ Bar Cervecería  │\n",
      "│ 8100168246      │ FL32SP   │ 2024-11-26 00:00:00 │ NULL                 │      36.0 │          2.0 │ Pub y Discoteca │\n",
      "└─────────────────┴──────────┴─────────────────────┴──────────────────────┴───────────┴──────────────┴─────────────────┘\n",
      "\n"
     ]
    }
   ],
   "source": [
    "import duckdb\n",
    "from pathlib import Path\n",
    "# pyarrow y pyarrow.parquet se importan implícitamente por DuckDB para operaciones con Parquet,\n",
    "# pero no se usan directamente en este script. Se pueden omitir si no hay otras dependencias.\n",
    "\n",
    "# Definición de rutas utilizando pathlib para una mejor gestión de rutas\n",
    "RUTA_BRONZE_DETALLISTAS = Path('../data/bronze_detallistas.parquet')\n",
    "RUTA_BRONZE_VENTAS = Path('../data/bronze_ventas.parquet')\n",
    "RUTA_SILVER_VENTAS = Path('../data/silver_ventas_establecimiento.parquet')\n",
    "\n",
    "def crear_parquet_ventas_silver(ruta_salida: Path):\n",
    "    \"\"\"\n",
    "    Crea una tabla silver de ventas agregadas por establecimiento y otras dimensiones.\n",
    "\n",
    "    Lee datos de ventas y detallistas desde archivos Parquet de la capa bronze,\n",
    "    los une, agrega las ventas y guarda el resultado en un nuevo archivo Parquet\n",
    "    en la capa silver.\n",
    "\n",
    "    Args:\n",
    "        ruta_salida: Objeto Path que indica dónde guardar el archivo Parquet resultante.\n",
    "    \"\"\"\n",
    "    # Se utiliza un gestor de contexto para asegurar que la conexión se cierre automáticamente\n",
    "    with duckdb.connect() as con:\n",
    "        # Carga las tablas bronze en DuckDB\n",
    "        # Se usa CREATE OR REPLACE para asegurar que la tabla se cree o reemplace si ya existe\n",
    "        con.sql(f\"CREATE OR REPLACE TABLE detallistas AS SELECT * FROM read_parquet('{RUTA_BRONZE_DETALLISTAS}')\")\n",
    "        con.sql(f\"CREATE OR REPLACE TABLE ventas AS SELECT * FROM read_parquet('{RUTA_BRONZE_VENTAS}')\")\n",
    "\n",
    "        # Consulta SQL para unir, agregar y transformar los datos\n",
    "        consulta_transformacion = f\"\"\"\n",
    "        COPY (\n",
    "            SELECT\n",
    "                d.establecimiento,\n",
    "                v.material,\n",
    "                v.calday,\n",
    "                v.promo_id,\n",
    "                SUM(v.volume_ap) AS volume_ap,\n",
    "                SUM(v.cantidad_umb) AS cantidad_umb,\n",
    "                d.type AS tipo\n",
    "            FROM ventas v\n",
    "            JOIN detallistas d\n",
    "            ON CAST(v.detallista AS VARCHAR) = d.detallista  -- Asegura la unión correcta de tipos\n",
    "            GROUP BY d.establecimiento, v.material, v.calday, v.promo_id, d.type\n",
    "        ) TO '{ruta_salida}' (FORMAT PARQUET)\n",
    "        \"\"\"\n",
    "        \n",
    "        con.execute(consulta_transformacion)\n",
    "        print(f\"Archivo Parquet silver creado exitosamente en: {ruta_salida}\")\n",
    "\n",
    "def mostrar_muestra_datos_silver(ruta_archivo_silver: Path, numero_filas: int = 5):\n",
    "    \"\"\"\n",
    "    Muestra las primeras N filas del archivo Parquet silver especificado.\n",
    "\n",
    "    Args:\n",
    "        ruta_archivo_silver: Objeto Path del archivo Parquet a leer.\n",
    "        numero_filas: Número de filas a mostrar.\n",
    "    \"\"\"\n",
    "    with duckdb.connect() as con:\n",
    "        print(f\"\\nPrimeras {numero_filas} filas de {ruta_archivo_silver.name}:\")\n",
    "        con.sql(f\"SELECT * FROM read_parquet('{ruta_archivo_silver}') LIMIT {numero_filas}\").show()\n",
    "\n",
    "# --- Bloque principal de ejecución del script ---\n",
    "if __name__ == \"__main__\":\n",
    "    # Crear el archivo Parquet en la capa silver\n",
    "    crear_parquet_ventas_silver(RUTA_SILVER_VENTAS)\n",
    "\n",
    "    # Mostrar una muestra de los datos generados en la tabla silver\n",
    "    mostrar_muestra_datos_silver(RUTA_SILVER_VENTAS)\n"
   ]
  },
  {
   "cell_type": "code",
   "execution_count": null,
   "id": "d0b086a2-3e7f-43f5-a6a2-43630fa79849",
   "metadata": {},
   "outputs": [],
   "source": []
  },
  {
   "cell_type": "code",
   "execution_count": null,
   "id": "ac2d9747-e129-44bf-9ec9-4e562fdf3647",
   "metadata": {},
   "outputs": [],
   "source": []
  }
 ],
 "metadata": {
  "kernelspec": {
   "display_name": "Python 3 (ipykernel)",
   "language": "python",
   "name": "python3"
  },
  "language_info": {
   "codemirror_mode": {
    "name": "ipython",
    "version": 3
   },
   "file_extension": ".py",
   "mimetype": "text/x-python",
   "name": "python",
   "nbconvert_exporter": "python",
   "pygments_lexer": "ipython3",
   "version": "3.12.9"
  }
 },
 "nbformat": 4,
 "nbformat_minor": 5
}
