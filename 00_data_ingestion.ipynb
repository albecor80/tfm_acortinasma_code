{
 "cells": [
  {
   "cell_type": "code",
   "execution_count": 13,
   "id": "906daa8c-a0a0-4aa4-a13e-2b377b814555",
   "metadata": {},
   "outputs": [
    {
     "name": "stdout",
     "output_type": "stream",
     "text": [
      "\n",
      "First 5 rows of silver_ventas.parquet:\n",
      "┌─────────────────┬──────────┬─────────────────────┬──────────────────────┬───────────┬──────────────┬─────────────────┐\n",
      "│ establecimiento │ material │       calday        │       promo_id       │ volume_ap │ cantidad_umb │      tipo       │\n",
      "│     varchar     │ varchar  │      timestamp      │       varchar        │  double   │    double    │     varchar     │\n",
      "├─────────────────┼──────────┼─────────────────────┼──────────────────────┼───────────┼──────────────┼─────────────────┤\n",
      "│ 8100240876      │ TB8      │ 2024-11-26 00:00:00 │ NULL                 │       8.0 │          1.0 │ Bar Cervecería  │\n",
      "│ 8100032055      │ PI13     │ 2024-11-26 00:00:00 │ NULL                 │      7.92 │          1.0 │ Restaurante     │\n",
      "│ 8100258434      │ FL13SPN  │ 2024-11-26 00:00:00 │ NULL                 │      23.1 │          2.0 │ Bar Cervecería  │\n",
      "│ 8100036860      │ VO13     │ 2024-11-26 00:00:00 │ 00000000000080619348 │       0.0 │          0.0 │ Bar Cervecería  │\n",
      "│ 8100168246      │ FL32SP   │ 2024-11-26 00:00:00 │ NULL                 │      36.0 │          2.0 │ Pub y Discoteca │\n",
      "└─────────────────┴──────────┴─────────────────────┴──────────────────────┴───────────┴──────────────┴─────────────────┘\n",
      "\n"
     ]
    }
   ],
   "source": [
    "import duckdb\n",
    "import pyarrow as pa\n",
    "import pyarrow.parquet as pq\n",
    "from pathlib import Path\n",
    "\n",
    "BRONZE_DETALLISTAS_PATH = '../data/bronze_detallistas.parquet'\n",
    "BRONZE_VENTAS_PATH = '../data/bronze_ventas.parquet'\n",
    "SILVER_VENTAS_PATH = '../data/silver_ventas_establecimiento.parquet'\n",
    "\n",
    "def create_sales_silver_parquet(file_name: str):\n",
    "    con = duckdb.connect()\n",
    "    # Use paths from config\n",
    "    con.sql(f\"CREATE OR REPLACE TABLE detallistas AS SELECT * FROM read_parquet('{BRONZE_DETALLISTAS_PATH}')\")\n",
    "    con.sql(f\"CREATE OR REPLACE TABLE ventas AS SELECT * FROM read_parquet('{BRONZE_VENTAS_PATH}')\")\n",
    "\n",
    "    copy_sql = f\"\"\"\n",
    "    COPY (\n",
    "        SELECT \n",
    "            d.establecimiento,\n",
    "            v.material,\n",
    "            v.calday,\n",
    "            v.promo_id,\n",
    "            SUM(v.volume_ap) AS volume_ap,\n",
    "            SUM(v.cantidad_umb) AS cantidad_umb,\n",
    "            d.type AS tipo\n",
    "        FROM ventas v\n",
    "        JOIN detallistas d \n",
    "        ON CAST(v.detallista AS VARCHAR) = d.detallista\n",
    "        GROUP BY d.establecimiento, v.material, v.calday, v.promo_id, d.type\n",
    "    ) TO '{file_name}' (FORMAT parquet)\n",
    "    \"\"\"\n",
    "    \n",
    "    con.execute(copy_sql)\n",
    "    con.close()\n",
    "\n",
    "create_sales_silver_parquet(str(SILVER_VENTAS_PATH))\n",
    "\n",
    "con = duckdb.connect()\n",
    "# Show first 5 rows of the created silver table\n",
    "print(\"\\nFirst 5 rows of silver_ventas.parquet:\")\n",
    "con.sql(f\"SELECT * FROM read_parquet('{SILVER_VENTAS_PATH}') LIMIT 5\").show()\n",
    "\n",
    "con.close() # Good practice to close the connection\n",
    "\n"
   ]
  },
  {
   "cell_type": "code",
   "execution_count": null,
   "id": "d0b086a2-3e7f-43f5-a6a2-43630fa79849",
   "metadata": {},
   "outputs": [],
   "source": []
  },
  {
   "cell_type": "code",
   "execution_count": null,
   "id": "ac2d9747-e129-44bf-9ec9-4e562fdf3647",
   "metadata": {},
   "outputs": [],
   "source": []
  }
 ],
 "metadata": {
  "kernelspec": {
   "display_name": "Python 3 (ipykernel)",
   "language": "python",
   "name": "python3"
  },
  "language_info": {
   "codemirror_mode": {
    "name": "ipython",
    "version": 3
   },
   "file_extension": ".py",
   "mimetype": "text/x-python",
   "name": "python",
   "nbconvert_exporter": "python",
   "pygments_lexer": "ipython3",
   "version": "3.12.9"
  }
 },
 "nbformat": 4,
 "nbformat_minor": 5
}
